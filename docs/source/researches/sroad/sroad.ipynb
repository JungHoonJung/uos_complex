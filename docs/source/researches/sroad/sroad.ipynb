{
 "metadata": {
  "language_info": {
   "codemirror_mode": {
    "name": "ipython",
    "version": 3
   },
   "file_extension": ".py",
   "mimetype": "text/x-python",
   "name": "python",
   "nbconvert_exporter": "python",
   "pygments_lexer": "ipython3",
   "version": 3
  },
  "orig_nbformat": 2
 },
 "nbformat": 4,
 "nbformat_minor": 2,
 "cells": [
  {
   "source": [
    "# Traffic flow analysis"
   ],
   "cell_type": "markdown",
   "metadata": {}
  },
  {
   "source": [
    "**Contributors** : YunGi Kwon"
   ],
   "cell_type": "markdown",
   "metadata": {}
  },
  {
   "source": [
    "percolation"
   ],
   "cell_type": "markdown",
   "metadata": {
    "nbsphinx-toctree": {
        "hidden": true,
        "caption": "Now : ",
        "maxdepth": 2
     }
    }
  },
  {
   "source": [
    "## test"
   ],
   "cell_type": "markdown",
   "metadata": {}
  },
  {
   "cell_type": "code",
   "execution_count": null,
   "metadata": {},
   "outputs": [],
   "source": []
  }
 ]
}